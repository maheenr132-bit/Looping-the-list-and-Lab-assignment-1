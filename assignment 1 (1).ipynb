{
 "cells": [
  {
   "cell_type": "code",
   "execution_count": 1,
   "id": "3ff8ab0d-85fc-41dc-b50d-786c05eb0048",
   "metadata": {},
   "outputs": [
    {
     "name": "stdout",
     "output_type": "stream",
     "text": [
      "2\n",
      "4\n",
      "6\n",
      "8\n",
      "10\n",
      "12\n",
      "14\n",
      "16\n",
      "18\n",
      "20\n"
     ]
    }
   ],
   "source": [
    "#write a for loop to print all even numbers from 2 to 20?\n",
    "for num in range(2,21,2):\n",
    "    print(num) "
   ]
  },
  {
   "cell_type": "code",
   "execution_count": 2,
   "id": "28f1ca71-7efc-4247-bcc9-717711400e42",
   "metadata": {},
   "outputs": [
    {
     "name": "stdout",
     "output_type": "stream",
     "text": [
      "SANA\n",
      "SARA\n",
      "MAHAM\n",
      "MINAHIL\n"
     ]
    }
   ],
   "source": [
    "#Create a list of names and use a for loop to print each name in upper case ?\n",
    "Names = [\"sana\",\"sara\",\"maham\",\"minahil\"]\n",
    "for name in Names:\n",
    "    print (name.upper()) "
   ]
  },
  {
   "cell_type": "code",
   "execution_count": 3,
   "id": "ad74c6c0-487a-4587-adf6-0fd3ca80166c",
   "metadata": {},
   "outputs": [
    {
     "name": "stdout",
     "output_type": "stream",
     "text": [
      "10\n",
      "9\n",
      "8\n",
      "7\n",
      "6\n",
      "5\n",
      "4\n",
      "3\n",
      "2\n",
      "1\n"
     ]
    }
   ],
   "source": [
    "for num in range(10,0,-1):\n",
    "    print (num) "
   ]
  },
  {
   "cell_type": "code",
   "execution_count": 5,
   "id": "9b5b9b13-f0df-4633-82e5-81662b455897",
   "metadata": {},
   "outputs": [
    {
     "name": "stdout",
     "output_type": "stream",
     "text": [
      "3\n",
      "6\n",
      "9\n"
     ]
    }
   ],
   "source": [
    "#iterate through a list of integers and print only the numbers that are divisible by 3?\n",
    "Numbers = [1,2,3,4,5,6,7,8,9]\n",
    "for num in Numbers:\n",
    "    if num % 3 == 0:\n",
    "        print (num) "
   ]
  },
  {
   "cell_type": "code",
   "execution_count": 6,
   "id": "b2ed729d-b514-46e2-9bfd-7ff1c3e8c427",
   "metadata": {},
   "outputs": [
    {
     "name": "stdout",
     "output_type": "stream",
     "text": [
      "1\n",
      "4\n",
      "9\n",
      "16\n",
      "25\n",
      "36\n",
      "49\n",
      "64\n",
      "81\n",
      "100\n"
     ]
    }
   ],
   "source": [
    "# write a loop that print the squares of numbers from 1 to 10?\n",
    "for  num in range (1,11):\n",
    "    print (num**2) "
   ]
  },
  {
   "cell_type": "code",
   "execution_count": 8,
   "id": "aa846eb3-b5a5-4917-bf80-e2293eab48c6",
   "metadata": {},
   "outputs": [
    {
     "name": "stdout",
     "output_type": "stream",
     "text": [
      "31 C = 87.8 F\n",
      "40 C = 104.0 F\n",
      "45 C = 113.0 F\n"
     ]
    }
   ],
   "source": [
    "# Given a list of tempreature in Celsius,use a for loop to convert each to Fahrenheit?\n",
    "celsius_temps = [31,40,45]\n",
    "for temp in celsius_temps:\n",
    "    fahrenheit = (temp*9/5)+32\n",
    "    print(f\"{temp} C = {fahrenheit} F\")"
   ]
  },
  {
   "cell_type": "code",
   "execution_count": 9,
   "id": "db9aec25-5d1e-4aa3-9d44-1eeeb8e073df",
   "metadata": {},
   "outputs": [
    {
     "name": "stdout",
     "output_type": "stream",
     "text": [
      "5*1 = 5\n",
      "5*2 = 10\n",
      "5*3 = 15\n",
      "5*4 = 20\n",
      "5*5 = 25\n",
      "5*6 = 30\n",
      "5*7 = 35\n",
      "5*8 = 40\n",
      "5*9 = 45\n",
      "5*10 = 50\n"
     ]
    }
   ],
   "source": [
    "#Create  a for loop that prints the multiplication table of 5?\n",
    "for num in range (1,11):\n",
    "    print (f\"5*{num} = {5*num}\")"
   ]
  },
  {
   "cell_type": "code",
   "execution_count": 11,
   "id": "6c4772c8-8349-453c-811b-17ebd6fed4d4",
   "metadata": {},
   "outputs": [
    {
     "name": "stdout",
     "output_type": "stream",
     "text": [
      "1\n",
      "3\n",
      "6\n",
      "10\n",
      "15\n",
      "21\n"
     ]
    }
   ],
   "source": [
    "#Write a program to find the sum of all numbers in list using for loop?\n",
    "numbers= [1,2,3,4,5,6]\n",
    "total = 0\n",
    "for num in numbers:\n",
    "    total += num\n",
    "    print(total)"
   ]
  },
  {
   "cell_type": "code",
   "execution_count": 12,
   "id": "7b03d3d2-033c-4f84-aa76-5f94db992aa1",
   "metadata": {},
   "outputs": [
    {
     "name": "stdout",
     "output_type": "stream",
     "text": [
      "h\n",
      "e\n",
      "l\n",
      "l\n",
      "o\n"
     ]
    }
   ],
   "source": [
    "#print each chracter in string?\n",
    "string = \"hello\"\n",
    "for char in string:\n",
    "    print (char)"
   ]
  },
  {
   "cell_type": "code",
   "execution_count": 2,
   "id": "355df3df-7fdb-4d80-be0e-c106cfd5a7e4",
   "metadata": {},
   "outputs": [
    {
     "name": "stdout",
     "output_type": "stream",
     "text": [
      "Elephant\n"
     ]
    }
   ],
   "source": [
    "#print words more than 5 letters?\n",
    "words = [\"Apple\",\"Cat\",\"Elephant\",\"Dog\"]\n",
    "for word in words:\n",
    "    if len(word)> 5:\n",
    "        print (word) "
   ]
  },
  {
   "cell_type": "code",
   "execution_count": null,
   "id": "cef86ce5-22a1-4988-b122-552919280e65",
   "metadata": {},
   "outputs": [],
   "source": []
  }
 ],
 "metadata": {
  "kernelspec": {
   "display_name": "Python [conda env:base] *",
   "language": "python",
   "name": "conda-base-py"
  },
  "language_info": {
   "codemirror_mode": {
    "name": "ipython",
    "version": 3
   },
   "file_extension": ".py",
   "mimetype": "text/x-python",
   "name": "python",
   "nbconvert_exporter": "python",
   "pygments_lexer": "ipython3",
   "version": "3.13.5"
  }
 },
 "nbformat": 4,
 "nbformat_minor": 5
}
